{
 "cells": [
  {
   "cell_type": "markdown",
   "metadata": {},
   "source": [
    "## Segmenting and Clustering Neighborhoods in Toronto\n",
    "In this assignment, you will be required to explore, segment, and cluster the neighborhoods in the city of Toronto. However, unlike New York, the neighborhood data is not readily available on the internet. What is interesting about the field of data science is that each project can be challenging in its unique way, so you need to learn to be agile and refine the skill to learn new libraries and tools quickly depending on the project.\n",
    "\n",
    "For the Toronto neighborhood data, a Wikipedia page exists that has all the information we need to explore and cluster the neighborhoods in Toronto. You will be required to scrape the Wikipedia page and wrangle the data, clean it, and then read it into a pandas dataframe so that it is in a structured format.\n",
    "\n",
    "Scrap Wikipedia for data using Pandas\n",
    "Use the Notebook to build the code to scrape the following Wikipedia page, https://en.wikipedia.org/wiki/List_of_postal_codes_of_Canada:_M, in order to obtain the data that is in the table of postal codes and to transform the data into a pandas dataframe.\n",
    "\n",
    "# Solving for Question 1"
   ]
  },
  {
   "cell_type": "code",
   "execution_count": 1,
   "metadata": {},
   "outputs": [
    {
     "data": {
      "text/html": [
       "<div>\n",
       "<style scoped>\n",
       "    .dataframe tbody tr th:only-of-type {\n",
       "        vertical-align: middle;\n",
       "    }\n",
       "\n",
       "    .dataframe tbody tr th {\n",
       "        vertical-align: top;\n",
       "    }\n",
       "\n",
       "    .dataframe thead th {\n",
       "        text-align: right;\n",
       "    }\n",
       "</style>\n",
       "<table border=\"1\" class=\"dataframe\">\n",
       "  <thead>\n",
       "    <tr style=\"text-align: right;\">\n",
       "      <th></th>\n",
       "      <th>Postal Code</th>\n",
       "      <th>Borough</th>\n",
       "      <th>Neighborhood</th>\n",
       "    </tr>\n",
       "  </thead>\n",
       "  <tbody>\n",
       "    <tr>\n",
       "      <th>0</th>\n",
       "      <td>M1A</td>\n",
       "      <td>Not assigned</td>\n",
       "      <td>Not assigned</td>\n",
       "    </tr>\n",
       "    <tr>\n",
       "      <th>1</th>\n",
       "      <td>M2A</td>\n",
       "      <td>Not assigned</td>\n",
       "      <td>Not assigned</td>\n",
       "    </tr>\n",
       "    <tr>\n",
       "      <th>2</th>\n",
       "      <td>M3A</td>\n",
       "      <td>North York</td>\n",
       "      <td>Parkwoods</td>\n",
       "    </tr>\n",
       "    <tr>\n",
       "      <th>3</th>\n",
       "      <td>M4A</td>\n",
       "      <td>North York</td>\n",
       "      <td>Victoria Village</td>\n",
       "    </tr>\n",
       "    <tr>\n",
       "      <th>4</th>\n",
       "      <td>M5A</td>\n",
       "      <td>Downtown Toronto</td>\n",
       "      <td>Regent Park, Harbourfront</td>\n",
       "    </tr>\n",
       "    <tr>\n",
       "      <th>...</th>\n",
       "      <td>...</td>\n",
       "      <td>...</td>\n",
       "      <td>...</td>\n",
       "    </tr>\n",
       "    <tr>\n",
       "      <th>175</th>\n",
       "      <td>M5Z</td>\n",
       "      <td>Not assigned</td>\n",
       "      <td>Not assigned</td>\n",
       "    </tr>\n",
       "    <tr>\n",
       "      <th>176</th>\n",
       "      <td>M6Z</td>\n",
       "      <td>Not assigned</td>\n",
       "      <td>Not assigned</td>\n",
       "    </tr>\n",
       "    <tr>\n",
       "      <th>177</th>\n",
       "      <td>M7Z</td>\n",
       "      <td>Not assigned</td>\n",
       "      <td>Not assigned</td>\n",
       "    </tr>\n",
       "    <tr>\n",
       "      <th>178</th>\n",
       "      <td>M8Z</td>\n",
       "      <td>Etobicoke</td>\n",
       "      <td>Mimico NW, The Queensway West, South of Bloor,...</td>\n",
       "    </tr>\n",
       "    <tr>\n",
       "      <th>179</th>\n",
       "      <td>M9Z</td>\n",
       "      <td>Not assigned</td>\n",
       "      <td>Not assigned</td>\n",
       "    </tr>\n",
       "  </tbody>\n",
       "</table>\n",
       "<p>180 rows × 3 columns</p>\n",
       "</div>"
      ],
      "text/plain": [
       "    Postal Code           Borough  \\\n",
       "0           M1A      Not assigned   \n",
       "1           M2A      Not assigned   \n",
       "2           M3A        North York   \n",
       "3           M4A        North York   \n",
       "4           M5A  Downtown Toronto   \n",
       "..          ...               ...   \n",
       "175         M5Z      Not assigned   \n",
       "176         M6Z      Not assigned   \n",
       "177         M7Z      Not assigned   \n",
       "178         M8Z         Etobicoke   \n",
       "179         M9Z      Not assigned   \n",
       "\n",
       "                                          Neighborhood  \n",
       "0                                         Not assigned  \n",
       "1                                         Not assigned  \n",
       "2                                            Parkwoods  \n",
       "3                                     Victoria Village  \n",
       "4                            Regent Park, Harbourfront  \n",
       "..                                                 ...  \n",
       "175                                       Not assigned  \n",
       "176                                       Not assigned  \n",
       "177                                       Not assigned  \n",
       "178  Mimico NW, The Queensway West, South of Bloor,...  \n",
       "179                                       Not assigned  \n",
       "\n",
       "[180 rows x 3 columns]"
      ]
     },
     "execution_count": 1,
     "metadata": {},
     "output_type": "execute_result"
    }
   ],
   "source": [
    "#creating new notebook\n",
    "#Data can be read through wiki by one line of code,pandas makes it much easier.\n",
    "\n",
    "import pandas as pd\n",
    "df=pd.read_html(\"https://en.wikipedia.org/wiki/List_of_postal_codes_of_Canada:_M\")[0]\n",
    "type(df)\n",
    "df"
   ]
  },
  {
   "cell_type": "markdown",
   "metadata": {},
   "source": [
    "shape of the dataframe including \"Assigned\" and \"Not assigned\" borough\n"
   ]
  },
  {
   "cell_type": "code",
   "execution_count": 2,
   "metadata": {},
   "outputs": [
    {
     "data": {
      "text/plain": [
       "(180, 3)"
      ]
     },
     "execution_count": 2,
     "metadata": {},
     "output_type": "execute_result"
    }
   ],
   "source": [
    "df.shape"
   ]
  },
  {
   "cell_type": "markdown",
   "metadata": {},
   "source": [
    "Borough has 77 number of Not Assigned and they have to be ignored/removed."
   ]
  },
  {
   "cell_type": "code",
   "execution_count": 3,
   "metadata": {},
   "outputs": [
    {
     "data": {
      "text/plain": [
       "Not assigned        77\n",
       "North York          24\n",
       "Downtown Toronto    19\n",
       "Scarborough         17\n",
       "Etobicoke           12\n",
       "Central Toronto      9\n",
       "West Toronto         6\n",
       "East York            5\n",
       "York                 5\n",
       "East Toronto         5\n",
       "Mississauga          1\n",
       "Name: Borough, dtype: int64"
      ]
     },
     "execution_count": 3,
     "metadata": {},
     "output_type": "execute_result"
    }
   ],
   "source": [
    "df[\"Borough\"].value_counts()"
   ]
  },
  {
   "cell_type": "markdown",
   "metadata": {},
   "source": [
    "re-writting the same DataFrame by using not equal to operator."
   ]
  },
  {
   "cell_type": "code",
   "execution_count": 6,
   "metadata": {},
   "outputs": [
    {
     "data": {
      "text/html": [
       "<div>\n",
       "<style scoped>\n",
       "    .dataframe tbody tr th:only-of-type {\n",
       "        vertical-align: middle;\n",
       "    }\n",
       "\n",
       "    .dataframe tbody tr th {\n",
       "        vertical-align: top;\n",
       "    }\n",
       "\n",
       "    .dataframe thead th {\n",
       "        text-align: right;\n",
       "    }\n",
       "</style>\n",
       "<table border=\"1\" class=\"dataframe\">\n",
       "  <thead>\n",
       "    <tr style=\"text-align: right;\">\n",
       "      <th></th>\n",
       "      <th>Postal Code</th>\n",
       "      <th>Borough</th>\n",
       "      <th>Neighborhood</th>\n",
       "    </tr>\n",
       "  </thead>\n",
       "  <tbody>\n",
       "    <tr>\n",
       "      <th>2</th>\n",
       "      <td>M3A</td>\n",
       "      <td>North York</td>\n",
       "      <td>Parkwoods</td>\n",
       "    </tr>\n",
       "    <tr>\n",
       "      <th>3</th>\n",
       "      <td>M4A</td>\n",
       "      <td>North York</td>\n",
       "      <td>Victoria Village</td>\n",
       "    </tr>\n",
       "    <tr>\n",
       "      <th>4</th>\n",
       "      <td>M5A</td>\n",
       "      <td>Downtown Toronto</td>\n",
       "      <td>Regent Park, Harbourfront</td>\n",
       "    </tr>\n",
       "    <tr>\n",
       "      <th>5</th>\n",
       "      <td>M6A</td>\n",
       "      <td>North York</td>\n",
       "      <td>Lawrence Manor, Lawrence Heights</td>\n",
       "    </tr>\n",
       "    <tr>\n",
       "      <th>6</th>\n",
       "      <td>M7A</td>\n",
       "      <td>Downtown Toronto</td>\n",
       "      <td>Queen's Park, Ontario Provincial Government</td>\n",
       "    </tr>\n",
       "    <tr>\n",
       "      <th>...</th>\n",
       "      <td>...</td>\n",
       "      <td>...</td>\n",
       "      <td>...</td>\n",
       "    </tr>\n",
       "    <tr>\n",
       "      <th>160</th>\n",
       "      <td>M8X</td>\n",
       "      <td>Etobicoke</td>\n",
       "      <td>The Kingsway, Montgomery Road, Old Mill North</td>\n",
       "    </tr>\n",
       "    <tr>\n",
       "      <th>165</th>\n",
       "      <td>M4Y</td>\n",
       "      <td>Downtown Toronto</td>\n",
       "      <td>Church and Wellesley</td>\n",
       "    </tr>\n",
       "    <tr>\n",
       "      <th>168</th>\n",
       "      <td>M7Y</td>\n",
       "      <td>East Toronto</td>\n",
       "      <td>Business reply mail Processing Centre, South C...</td>\n",
       "    </tr>\n",
       "    <tr>\n",
       "      <th>169</th>\n",
       "      <td>M8Y</td>\n",
       "      <td>Etobicoke</td>\n",
       "      <td>Old Mill South, King's Mill Park, Sunnylea, Hu...</td>\n",
       "    </tr>\n",
       "    <tr>\n",
       "      <th>178</th>\n",
       "      <td>M8Z</td>\n",
       "      <td>Etobicoke</td>\n",
       "      <td>Mimico NW, The Queensway West, South of Bloor,...</td>\n",
       "    </tr>\n",
       "  </tbody>\n",
       "</table>\n",
       "<p>103 rows × 3 columns</p>\n",
       "</div>"
      ],
      "text/plain": [
       "    Postal Code           Borough  \\\n",
       "2           M3A        North York   \n",
       "3           M4A        North York   \n",
       "4           M5A  Downtown Toronto   \n",
       "5           M6A        North York   \n",
       "6           M7A  Downtown Toronto   \n",
       "..          ...               ...   \n",
       "160         M8X         Etobicoke   \n",
       "165         M4Y  Downtown Toronto   \n",
       "168         M7Y      East Toronto   \n",
       "169         M8Y         Etobicoke   \n",
       "178         M8Z         Etobicoke   \n",
       "\n",
       "                                          Neighborhood  \n",
       "2                                            Parkwoods  \n",
       "3                                     Victoria Village  \n",
       "4                            Regent Park, Harbourfront  \n",
       "5                     Lawrence Manor, Lawrence Heights  \n",
       "6          Queen's Park, Ontario Provincial Government  \n",
       "..                                                 ...  \n",
       "160      The Kingsway, Montgomery Road, Old Mill North  \n",
       "165                               Church and Wellesley  \n",
       "168  Business reply mail Processing Centre, South C...  \n",
       "169  Old Mill South, King's Mill Park, Sunnylea, Hu...  \n",
       "178  Mimico NW, The Queensway West, South of Bloor,...  \n",
       "\n",
       "[103 rows x 3 columns]"
      ]
     },
     "execution_count": 6,
     "metadata": {},
     "output_type": "execute_result"
    }
   ],
   "source": [
    "df=df.query('Borough != \"Not assigned\"')\n",
    "#removing \"NOt assigned\" from Borough also removes \"not assigned\" from Neighborhood\n",
    "df"
   ]
  },
  {
   "cell_type": "markdown",
   "metadata": {},
   "source": [
    "shape of DF after removing \"Not assigned\""
   ]
  },
  {
   "cell_type": "code",
   "execution_count": 7,
   "metadata": {},
   "outputs": [
    {
     "data": {
      "text/plain": [
       "(103, 3)"
      ]
     },
     "execution_count": 7,
     "metadata": {},
     "output_type": "execute_result"
    }
   ],
   "source": [
    "df.shape"
   ]
  },
  {
   "cell_type": "markdown",
   "metadata": {},
   "source": [
    "resetting the index"
   ]
  },
  {
   "cell_type": "code",
   "execution_count": 8,
   "metadata": {},
   "outputs": [
    {
     "data": {
      "text/html": [
       "<div>\n",
       "<style scoped>\n",
       "    .dataframe tbody tr th:only-of-type {\n",
       "        vertical-align: middle;\n",
       "    }\n",
       "\n",
       "    .dataframe tbody tr th {\n",
       "        vertical-align: top;\n",
       "    }\n",
       "\n",
       "    .dataframe thead th {\n",
       "        text-align: right;\n",
       "    }\n",
       "</style>\n",
       "<table border=\"1\" class=\"dataframe\">\n",
       "  <thead>\n",
       "    <tr style=\"text-align: right;\">\n",
       "      <th></th>\n",
       "      <th>Postal Code</th>\n",
       "      <th>Borough</th>\n",
       "      <th>Neighborhood</th>\n",
       "    </tr>\n",
       "  </thead>\n",
       "  <tbody>\n",
       "    <tr>\n",
       "      <th>0</th>\n",
       "      <td>M3A</td>\n",
       "      <td>North York</td>\n",
       "      <td>Parkwoods</td>\n",
       "    </tr>\n",
       "    <tr>\n",
       "      <th>1</th>\n",
       "      <td>M4A</td>\n",
       "      <td>North York</td>\n",
       "      <td>Victoria Village</td>\n",
       "    </tr>\n",
       "    <tr>\n",
       "      <th>2</th>\n",
       "      <td>M5A</td>\n",
       "      <td>Downtown Toronto</td>\n",
       "      <td>Regent Park, Harbourfront</td>\n",
       "    </tr>\n",
       "    <tr>\n",
       "      <th>3</th>\n",
       "      <td>M6A</td>\n",
       "      <td>North York</td>\n",
       "      <td>Lawrence Manor, Lawrence Heights</td>\n",
       "    </tr>\n",
       "    <tr>\n",
       "      <th>4</th>\n",
       "      <td>M7A</td>\n",
       "      <td>Downtown Toronto</td>\n",
       "      <td>Queen's Park, Ontario Provincial Government</td>\n",
       "    </tr>\n",
       "    <tr>\n",
       "      <th>...</th>\n",
       "      <td>...</td>\n",
       "      <td>...</td>\n",
       "      <td>...</td>\n",
       "    </tr>\n",
       "    <tr>\n",
       "      <th>98</th>\n",
       "      <td>M8X</td>\n",
       "      <td>Etobicoke</td>\n",
       "      <td>The Kingsway, Montgomery Road, Old Mill North</td>\n",
       "    </tr>\n",
       "    <tr>\n",
       "      <th>99</th>\n",
       "      <td>M4Y</td>\n",
       "      <td>Downtown Toronto</td>\n",
       "      <td>Church and Wellesley</td>\n",
       "    </tr>\n",
       "    <tr>\n",
       "      <th>100</th>\n",
       "      <td>M7Y</td>\n",
       "      <td>East Toronto</td>\n",
       "      <td>Business reply mail Processing Centre, South C...</td>\n",
       "    </tr>\n",
       "    <tr>\n",
       "      <th>101</th>\n",
       "      <td>M8Y</td>\n",
       "      <td>Etobicoke</td>\n",
       "      <td>Old Mill South, King's Mill Park, Sunnylea, Hu...</td>\n",
       "    </tr>\n",
       "    <tr>\n",
       "      <th>102</th>\n",
       "      <td>M8Z</td>\n",
       "      <td>Etobicoke</td>\n",
       "      <td>Mimico NW, The Queensway West, South of Bloor,...</td>\n",
       "    </tr>\n",
       "  </tbody>\n",
       "</table>\n",
       "<p>103 rows × 3 columns</p>\n",
       "</div>"
      ],
      "text/plain": [
       "    Postal Code           Borough  \\\n",
       "0           M3A        North York   \n",
       "1           M4A        North York   \n",
       "2           M5A  Downtown Toronto   \n",
       "3           M6A        North York   \n",
       "4           M7A  Downtown Toronto   \n",
       "..          ...               ...   \n",
       "98          M8X         Etobicoke   \n",
       "99          M4Y  Downtown Toronto   \n",
       "100         M7Y      East Toronto   \n",
       "101         M8Y         Etobicoke   \n",
       "102         M8Z         Etobicoke   \n",
       "\n",
       "                                          Neighborhood  \n",
       "0                                            Parkwoods  \n",
       "1                                     Victoria Village  \n",
       "2                            Regent Park, Harbourfront  \n",
       "3                     Lawrence Manor, Lawrence Heights  \n",
       "4          Queen's Park, Ontario Provincial Government  \n",
       "..                                                 ...  \n",
       "98       The Kingsway, Montgomery Road, Old Mill North  \n",
       "99                                Church and Wellesley  \n",
       "100  Business reply mail Processing Centre, South C...  \n",
       "101  Old Mill South, King's Mill Park, Sunnylea, Hu...  \n",
       "102  Mimico NW, The Queensway West, South of Bloor,...  \n",
       "\n",
       "[103 rows x 3 columns]"
      ]
     },
     "execution_count": 8,
     "metadata": {},
     "output_type": "execute_result"
    }
   ],
   "source": [
    "df=df.reset_index(drop=True)\n",
    "\n",
    "#final dataframe to be considered\n",
    "df"
   ]
  },
  {
   "cell_type": "markdown",
   "metadata": {},
   "source": [
    "## END of Question 1"
   ]
  },
  {
   "cell_type": "markdown",
   "metadata": {},
   "source": [
    "# Solving Question 2:"
   ]
  },
  {
   "cell_type": "code",
   "execution_count": 18,
   "metadata": {},
   "outputs": [],
   "source": [
    "import geocoder\n",
    "import folium\n",
    "from geopy.geocoders import Nominatim # convert an address into latitude and longitude values"
   ]
  },
  {
   "cell_type": "markdown",
   "metadata": {},
   "source": [
    "get latitude and longitude using geocoder\n",
    "\n",
    "initialize your variable to None"
   ]
  },
  {
   "cell_type": "code",
   "execution_count": 12,
   "metadata": {},
   "outputs": [
    {
     "name": "stdout",
     "output_type": "stream",
     "text": [
      "43.648690000000045 -79.38543999999996\n"
     ]
    }
   ],
   "source": [
    "lat_lng_coords = None\n",
    "\n",
    "# loop until you get the coordinates\n",
    "while(lat_lng_coords is None):\n",
    "  g = geocoder.arcgis('{}, Toronto, Ontario'.format('Postal Code'))\n",
    "  lat_lng_coords = g.latlng\n",
    "\n",
    "latitude = lat_lng_coords[0]\n",
    "longitude = lat_lng_coords[1]\n",
    "\n",
    "print(latitude,longitude )"
   ]
  },
  {
   "cell_type": "code",
   "execution_count": 13,
   "metadata": {},
   "outputs": [
    {
     "data": {
      "text/html": [
       "<div>\n",
       "<style scoped>\n",
       "    .dataframe tbody tr th:only-of-type {\n",
       "        vertical-align: middle;\n",
       "    }\n",
       "\n",
       "    .dataframe tbody tr th {\n",
       "        vertical-align: top;\n",
       "    }\n",
       "\n",
       "    .dataframe thead th {\n",
       "        text-align: right;\n",
       "    }\n",
       "</style>\n",
       "<table border=\"1\" class=\"dataframe\">\n",
       "  <thead>\n",
       "    <tr style=\"text-align: right;\">\n",
       "      <th></th>\n",
       "      <th>Postal Code</th>\n",
       "      <th>Latitude</th>\n",
       "      <th>Longitude</th>\n",
       "    </tr>\n",
       "  </thead>\n",
       "  <tbody>\n",
       "    <tr>\n",
       "      <th>0</th>\n",
       "      <td>M1B</td>\n",
       "      <td>43.806686</td>\n",
       "      <td>-79.194353</td>\n",
       "    </tr>\n",
       "    <tr>\n",
       "      <th>1</th>\n",
       "      <td>M1C</td>\n",
       "      <td>43.784535</td>\n",
       "      <td>-79.160497</td>\n",
       "    </tr>\n",
       "    <tr>\n",
       "      <th>2</th>\n",
       "      <td>M1E</td>\n",
       "      <td>43.763573</td>\n",
       "      <td>-79.188711</td>\n",
       "    </tr>\n",
       "    <tr>\n",
       "      <th>3</th>\n",
       "      <td>M1G</td>\n",
       "      <td>43.770992</td>\n",
       "      <td>-79.216917</td>\n",
       "    </tr>\n",
       "    <tr>\n",
       "      <th>4</th>\n",
       "      <td>M1H</td>\n",
       "      <td>43.773136</td>\n",
       "      <td>-79.239476</td>\n",
       "    </tr>\n",
       "  </tbody>\n",
       "</table>\n",
       "</div>"
      ],
      "text/plain": [
       "  Postal Code   Latitude  Longitude\n",
       "0         M1B  43.806686 -79.194353\n",
       "1         M1C  43.784535 -79.160497\n",
       "2         M1E  43.763573 -79.188711\n",
       "3         M1G  43.770992 -79.216917\n",
       "4         M1H  43.773136 -79.239476"
      ]
     },
     "execution_count": 13,
     "metadata": {},
     "output_type": "execute_result"
    }
   ],
   "source": [
    "#read geospatial data file\n",
    "url = 'http://cocl.us/Geospatial_data'\n",
    "geotable = pd.read_csv(url)\n",
    "geotable.head()"
   ]
  },
  {
   "cell_type": "code",
   "execution_count": 14,
   "metadata": {},
   "outputs": [
    {
     "data": {
      "text/html": [
       "<div>\n",
       "<style scoped>\n",
       "    .dataframe tbody tr th:only-of-type {\n",
       "        vertical-align: middle;\n",
       "    }\n",
       "\n",
       "    .dataframe tbody tr th {\n",
       "        vertical-align: top;\n",
       "    }\n",
       "\n",
       "    .dataframe thead th {\n",
       "        text-align: right;\n",
       "    }\n",
       "</style>\n",
       "<table border=\"1\" class=\"dataframe\">\n",
       "  <thead>\n",
       "    <tr style=\"text-align: right;\">\n",
       "      <th></th>\n",
       "      <th>Postal Code</th>\n",
       "      <th>Borough</th>\n",
       "      <th>Neighborhood</th>\n",
       "      <th>Latitude</th>\n",
       "      <th>Longitude</th>\n",
       "    </tr>\n",
       "  </thead>\n",
       "  <tbody>\n",
       "    <tr>\n",
       "      <th>0</th>\n",
       "      <td>M3A</td>\n",
       "      <td>North York</td>\n",
       "      <td>Parkwoods</td>\n",
       "      <td>43.753259</td>\n",
       "      <td>-79.329656</td>\n",
       "    </tr>\n",
       "    <tr>\n",
       "      <th>1</th>\n",
       "      <td>M4A</td>\n",
       "      <td>North York</td>\n",
       "      <td>Victoria Village</td>\n",
       "      <td>43.725882</td>\n",
       "      <td>-79.315572</td>\n",
       "    </tr>\n",
       "    <tr>\n",
       "      <th>2</th>\n",
       "      <td>M5A</td>\n",
       "      <td>Downtown Toronto</td>\n",
       "      <td>Regent Park, Harbourfront</td>\n",
       "      <td>43.654260</td>\n",
       "      <td>-79.360636</td>\n",
       "    </tr>\n",
       "    <tr>\n",
       "      <th>3</th>\n",
       "      <td>M6A</td>\n",
       "      <td>North York</td>\n",
       "      <td>Lawrence Manor, Lawrence Heights</td>\n",
       "      <td>43.718518</td>\n",
       "      <td>-79.464763</td>\n",
       "    </tr>\n",
       "    <tr>\n",
       "      <th>4</th>\n",
       "      <td>M7A</td>\n",
       "      <td>Downtown Toronto</td>\n",
       "      <td>Queen's Park, Ontario Provincial Government</td>\n",
       "      <td>43.662301</td>\n",
       "      <td>-79.389494</td>\n",
       "    </tr>\n",
       "  </tbody>\n",
       "</table>\n",
       "</div>"
      ],
      "text/plain": [
       "  Postal Code           Borough                                 Neighborhood  \\\n",
       "0         M3A        North York                                    Parkwoods   \n",
       "1         M4A        North York                             Victoria Village   \n",
       "2         M5A  Downtown Toronto                    Regent Park, Harbourfront   \n",
       "3         M6A        North York             Lawrence Manor, Lawrence Heights   \n",
       "4         M7A  Downtown Toronto  Queen's Park, Ontario Provincial Government   \n",
       "\n",
       "    Latitude  Longitude  \n",
       "0  43.753259 -79.329656  \n",
       "1  43.725882 -79.315572  \n",
       "2  43.654260 -79.360636  \n",
       "3  43.718518 -79.464763  \n",
       "4  43.662301 -79.389494  "
      ]
     },
     "execution_count": 14,
     "metadata": {},
     "output_type": "execute_result"
    }
   ],
   "source": [
    "#append lat & long into table[0]\n",
    "toronto = pd.merge(df, geotable, left_on='Postal Code', right_on='Postal Code', left_index=False, right_index=False)\n",
    "toronto.head()"
   ]
  },
  {
   "cell_type": "code",
   "execution_count": 19,
   "metadata": {},
   "outputs": [
    {
     "data": {
      "text/html": [
       "<div style=\"width:100%;\"><div style=\"position:relative;width:100%;height:0;padding-bottom:60%;\"><span style=\"color:#565656\">Make this Notebook Trusted to load map: File -> Trust Notebook</span><iframe src=\"about:blank\" style=\"position:absolute;width:100%;height:100%;left:0;top:0;border:none !important;\" data-html=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 onload=\"this.contentDocument.open();this.contentDocument.write(atob(this.getAttribute('data-html')));this.contentDocument.close();\" allowfullscreen webkitallowfullscreen mozallowfullscreen></iframe></div></div>"
      ],
      "text/plain": [
       "<folium.folium.Map at 0x21322132208>"
      ]
     },
     "execution_count": 19,
     "metadata": {},
     "output_type": "execute_result"
    }
   ],
   "source": [
    "#make a map of all Toronto neighborhoods\n",
    "#Get the coordinates of Toronto\n",
    "lat_lng_coords = None\n",
    "\n",
    "# loop until you get the coordinates\n",
    "while(lat_lng_coords is None):\n",
    "  g = geocoder.arcgis('{}, Toronto, Ontario')\n",
    "  lat_lng_coords = g.latlng\n",
    "\n",
    "latitude = lat_lng_coords[0]\n",
    "longitude = lat_lng_coords[1]\n",
    "\n",
    "#create a folium map of Toronto with Boroughs\n",
    "map_Toronto = folium.Map(location=[latitude, longitude], zoom_start=11)\n",
    "for lat, lng, borough, neighborhood in zip(toronto['Latitude'], toronto['Longitude'], toronto['Borough'], toronto['Neighborhood']):\n",
    "    label = '{}, {}'.format(neighborhood, borough)\n",
    "    label = folium.Popup(label)\n",
    "    folium.CircleMarker([lat, lng], radius=5, popup=label, color='blue', fill_color='blue').add_to(map_Toronto)\n",
    "map_Toronto"
   ]
  },
  {
   "cell_type": "code",
   "execution_count": null,
   "metadata": {},
   "outputs": [],
   "source": []
  }
 ],
 "metadata": {
  "kernelspec": {
   "display_name": "Python 3",
   "language": "python",
   "name": "python3"
  },
  "language_info": {
   "codemirror_mode": {
    "name": "ipython",
    "version": 3
   },
   "file_extension": ".py",
   "mimetype": "text/x-python",
   "name": "python",
   "nbconvert_exporter": "python",
   "pygments_lexer": "ipython3",
   "version": "3.7.6"
  }
 },
 "nbformat": 4,
 "nbformat_minor": 4
}
